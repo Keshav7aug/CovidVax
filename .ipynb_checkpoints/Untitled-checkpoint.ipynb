{
 "cells": [
  {
   "cell_type": "code",
   "execution_count": 3,
   "id": "growing-beverage",
   "metadata": {},
   "outputs": [],
   "source": [
    "import requests\n",
    "import time\n",
    "import json\n",
    "from playsound import playsound\n",
    "import os\n",
    "from text_to_speech import speak\n",
    "from sys import platform\n",
    "from datetime import date,timedelta\n",
    "try:\n",
    "    import winsound\n",
    "except:\n",
    "    pass"
   ]
  },
  {
   "cell_type": "code",
   "execution_count": null,
   "id": "embedded-drunk",
   "metadata": {},
   "outputs": [],
   "source": []
  },
  {
   "cell_type": "code",
   "execution_count": null,
   "id": "undefined-ensemble",
   "metadata": {},
   "outputs": [],
   "source": [
    "class VaccineAvailability:\n",
    "    def __init__(self):\n",
    "        self.d={}\n",
    "    def playit(self,name):\n",
    "        if platform == 'linux':\n",
    "            os.system(f'mpg123 \"{name}\"')\n",
    "        else:\n",
    "            winsound.PlaySound('Five Little Ducks.wav',winsound.SND_FILENAME)\n",
    "    def txt2Spch(self,words):\n",
    "        speak(words, \"en\", save=False)\n",
    "    def chkAndPlay(self,curr):\n",
    "        if curr['name'] in self.d:\n",
    "            if curr['date'] not in self.d[curr['name']]:\n",
    "                self.d[curr['name']][curr['date']]=curr['avail']\n",
    "                self.playit('Five Little Ducks.mp3')\n",
    "                return True\n",
    "        else:\n",
    "            self.playit('Five Little Ducks.mp3')\n",
    "            self.d[curr['name']] = {curr['date']:curr['avail']}\n",
    "            return True\n",
    "        return False\n",
    "    def query(self,Q):\n",
    "        headers={'User-Agent':'Mozilla/5.0 (Windows NT 10.0; Win64; x64) AppleWebKit/537.36 (KHTML, like Gecko) Chrome/70.0.3538.77 Safari/537.36'}\n",
    "        url = 'https://cdn-api.co-vin.in/api{}'\n",
    "        if response.status_code!=200:\n",
    "            print(response.status_code,response.url)\n",
    "        time.sleep(10)\n",
    "        return response.json()\n",
    "    def finder(self,name,nameList,key):\n",
    "        for i in nameList:\n",
    "            if i[key]==name:\n",
    "                return i\n",
    "        return False\n",
    "    def findStateCode(self,name):\n",
    "        with open('States.json') as f:\n",
    "            data = json.load(f) \n",
    "        return data[name]\n",
    "    def findDisCode(self,disName,stateName='Delhi'):\n",
    "        with open(f'Districts/{stateName}.json') as f:\n",
    "            data = json.load(f) \n",
    "        return data[name]\n",
    "    def getAvailability(queryDict,currentAvails,noW=2):\n",
    "        sessions=[]\n",
    "        for pincode in queryDict['Pincodes']:\n",
    "            session\n",
    "    def getCenterDetails(self,centers,addr,stateCode=9):\n",
    "        for center in centers:\n",
    "            sessions = center['sessions']\n",
    "            for session in sessions:\n",
    "                if session['available_capacity']>0 and session['min_age_limit']==18:\n",
    "                    print(center['name'],session['date'],session['available_capacity'],addr)\n",
    "                    newD={'name':center['name'],'date':session['date'],'avail':session['available_capacity']}\n",
    "                    self.chkAndPlay(newD)\n",
    "                    file = open(f'vaccx_{stateCode}.txt','a')\n",
    "                    file.write(f\"{center['name']}_{session['date']}_{session['available_capacity'],{addr}}\\n\")\n",
    "                    file.close()\n",
    "    def getAvailbyDis(self,disName,date,stateCode=9):\n",
    "        disCode = self.findDisCode(disName,stateCode)['district_id']\n",
    "        response = self.query(f'/v2/appointment/sessions/calendarByDistrict?district_id={disCode}&date={date}')\n",
    "        centers = response['centers']\n",
    "        self.getCenterDetails(centers,disName,stateCode)\n",
    "    def getAvailbyPIN(self,PIN,date,stateCode=9):\n",
    "        response = self.query(f'/v2/appointment/sessions/calendarByPin?pincode={PIN}&date={date}')\n",
    "        centers = response['centers']\n",
    "        self.getCenterDetails(centers,PIN,stateCode)\n",
    "    def getAvailbyState(self,stateName,noW=2):\n",
    "        statecode = self.findStateCode(stateName)['state_id']\n",
    "        districts = self.query(f'/v2/admin/location/districts/{statecode}')['districts']\n",
    "        curr_date = date.today()\n",
    "        for i in range(noW):\n",
    "            quer_date = date.today()+timedelta(7*i)\n",
    "            for district in districts:\n",
    "                self.getAvailbyDis(district['district_name'],quer_date.strftime(\"%d-%m-%Y\"))\n",
    "    def QueriedDistricts(self,DistrictList,stateCode=9,noW=2):\n",
    "        curr_date = date.today()\n",
    "        for i in range(noW):\n",
    "            quer_date = curr_date+timedelta(7*i)\n",
    "            quer_date=quer_date.strftime(\"%d-%m-%Y\")\n",
    "            for district in DistrictList:\n",
    "                self.getAvailbyDis(district,quer_date,stateCode)\n",
    "    def QueriedPINs(self,PINList,stateCode=9,noW=2):\n",
    "        curr_date = date.today()\n",
    "        for i in range(noW):\n",
    "            quer_date = curr_date+timedelta(7*i)\n",
    "            quer_date=quer_date.strftime(\"%d-%m-%Y\")\n",
    "            for PIN in PINList:\n",
    "                self.getAvailbyPIN(PIN,quer_date,stateCode)"
   ]
  },
  {
   "cell_type": "code",
   "execution_count": 6,
   "id": "sorted-bradford",
   "metadata": {},
   "outputs": [],
   "source": [
    "States = requests.get('https://cdn-api.co-vin.in/api/v2/admin/location/states')"
   ]
  },
  {
   "cell_type": "code",
   "execution_count": null,
   "id": "rural-sample",
   "metadata": {},
   "outputs": [],
   "source": []
  },
  {
   "cell_type": "code",
   "execution_count": null,
   "id": "disturbed-metallic",
   "metadata": {},
   "outputs": [],
   "source": [
    "StatesDict['Haryana']"
   ]
  },
  {
   "cell_type": "code",
   "execution_count": 10,
   "id": "pressing-warrant",
   "metadata": {},
   "outputs": [],
   "source": [
    "headers={'User-Agent':'Mozilla/5.0 (Windows NT 10.0; Win64; x64) AppleWebKit/537.36 (KHTML, like Gecko) Chrome/70.0.3538.77 Safari/537.36'}\n",
    "States=requests.get('https://cdn-api.co-vin.in/api/v2/admin/location/states',headers=headers)\n"
   ]
  },
  {
   "cell_type": "code",
   "execution_count": null,
   "id": "alleged-treaty",
   "metadata": {},
   "outputs": [],
   "source": [
    "res.json()['centers'][1]['sessions'][0]"
   ]
  },
  {
   "cell_type": "code",
   "execution_count": null,
   "id": "suited-vocabulary",
   "metadata": {},
   "outputs": [],
   "source": [
    "Dictricts=Dictricts['districts']\n",
    "Dictricts"
   ]
  },
  {
   "cell_type": "code",
   "execution_count": 11,
   "id": "attended-enlargement",
   "metadata": {},
   "outputs": [],
   "source": [
    "StatesList = States.json()['states']\n",
    "StatesDict={}\n",
    "for i in StatesList:\n",
    "    StatesDict[i['state_name']]=i['state_id']"
   ]
  },
  {
   "cell_type": "code",
   "execution_count": null,
   "id": "transsexual-childhood",
   "metadata": {},
   "outputs": [],
   "source": []
  },
  {
   "cell_type": "code",
   "execution_count": 12,
   "id": "female-spirit",
   "metadata": {},
   "outputs": [],
   "source": [
    "out_file = open(\"States.json\", \"w\") \n",
    "json.dump(StatesDict, out_file) "
   ]
  },
  {
   "cell_type": "code",
   "execution_count": 19,
   "id": "personal-george",
   "metadata": {},
   "outputs": [],
   "source": [
    "with open('States.json') as f:\n",
    "    data = json.load(f)"
   ]
  },
  {
   "cell_type": "code",
   "execution_count": 18,
   "id": "regulation-hurricane",
   "metadata": {},
   "outputs": [],
   "source": [
    "for States in StatesDict:\n",
    "    StateCode = StatesDict[States]\n",
    "    Dictricts = requests.get(f'https://cdn-api.co-vin.in/api/v2/admin/location/districts/{StateCode}',headers=headers)\n",
    "    Dictricts = Dictricts.json()['districts']\n",
    "    DistrictDict = {}\n",
    "    for i in Dictricts:\n",
    "        DistrictDict[i['district_name']]=i['district_id']\n",
    "    out_file = open(f\"Districts/{States}.json\", \"w\") \n",
    "    json.dump(DistrictDict, out_file) \n",
    "    out_file.close()"
   ]
  },
  {
   "cell_type": "code",
   "execution_count": 17,
   "id": "independent-flush",
   "metadata": {},
   "outputs": [
    {
     "name": "stdout",
     "output_type": "stream",
     "text": [
      "{'Ambala': 193, 'Bhiwani': 200, 'Charkhi Dadri': 201, 'Faridabad': 199, 'Fatehabad': 196, 'Gurgaon': 188, 'Hisar': 191, 'Jhajjar': 189, 'Jind': 204, 'Kaithal': 190, 'Karnal': 203, 'Kurukshetra': 186, 'Mahendragarh': 206, 'Nuh': 205, 'Palwal': 207, 'Panchkula': 187, 'Panipat': 195, 'Rewari': 202, 'Rohtak': 192, 'Sirsa': 194, 'Sonipat': 198, 'Yamunanagar': 197}\n"
     ]
    }
   ],
   "source": [
    "with open('Districts/Haryana.json') as f:\n",
    "    data = json.load(f)\n",
    "print(data)"
   ]
  },
  {
   "cell_type": "code",
   "execution_count": null,
   "id": "tough-month",
   "metadata": {},
   "outputs": [],
   "source": [
    "os.system('mpg123 \"Five Little Ducks.mp3\"')"
   ]
  },
  {
   "cell_type": "code",
   "execution_count": null,
   "id": "creative-campus",
   "metadata": {},
   "outputs": [],
   "source": [
    "districts = query('/v2/admin/location/districts/9')['districts']+[findDisCode('Gurgaon',12)]\n",
    "val=0\n",
    "while val<20:\n",
    "    for district in districts:\n",
    "        getAvailbyDis(district['district_name'],'02-05-2021')\n",
    "        getAvailbyDis(district['district_name'],'09-05-2021')\n",
    "    val+=1\n",
    "    time.sleep(60)\n",
    "    print(val)"
   ]
  },
  {
   "cell_type": "code",
   "execution_count": null,
   "id": "rural-billion",
   "metadata": {},
   "outputs": [],
   "source": [
    "query('/v2/admin/location/districts/9')['districts']+[findDisCode('Gurgaon',12)]"
   ]
  },
  {
   "cell_type": "code",
   "execution_count": null,
   "id": "processed-decrease",
   "metadata": {},
   "outputs": [],
   "source": [
    "findDisCode('Gurgaon')"
   ]
  },
  {
   "cell_type": "code",
   "execution_count": null,
   "id": "early-revolution",
   "metadata": {},
   "outputs": [],
   "source": []
  }
 ],
 "metadata": {
  "kernelspec": {
   "display_name": "Python 3",
   "language": "python",
   "name": "python3"
  },
  "language_info": {
   "codemirror_mode": {
    "name": "ipython",
    "version": 3
   },
   "file_extension": ".py",
   "mimetype": "text/x-python",
   "name": "python",
   "nbconvert_exporter": "python",
   "pygments_lexer": "ipython3",
   "version": "3.7.3"
  }
 },
 "nbformat": 4,
 "nbformat_minor": 5
}
