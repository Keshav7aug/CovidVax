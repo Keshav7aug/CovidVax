{
 "cells": [
  {
   "cell_type": "code",
   "execution_count": 5,
   "id": "growing-beverage",
   "metadata": {},
   "outputs": [],
   "source": [
    "import requests\n",
    "import time\n",
    "from playsound import playsound\n",
    "import os\n",
    "from text_to_speech import speak"
   ]
  },
  {
   "cell_type": "code",
   "execution_count": 6,
   "id": "undefined-ensemble",
   "metadata": {},
   "outputs": [],
   "source": [
    "def playit(name):\n",
    "    os.system(f'mpg123 \"{name}\"')\n",
    "def txt2Spch(words):\n",
    "    speak(words, \"en\", save=False)\n",
    "def chkAndPlay(d,curr):\n",
    "    if curr['name'] in d:\n",
    "        if curr['date'] not in d[curr['name']]:\n",
    "            d[curr['name']][curr['date']]=curr['avail']\n",
    "            playit('Five Little Ducks.mp3')\n",
    "    else:\n",
    "        playit('Five Little Ducks.mp3')\n",
    "        d[curr['name']] = {curr['date']:curr['avail']}\n",
    "def query(Q):\n",
    "    url = 'https://cdn-api.co-vin.in/api{}'\n",
    "    response=requests.get(url.format(Q))\n",
    "    return response.json()\n",
    "def finder(name,nameList,key):\n",
    "    for i in nameList:\n",
    "        if i[key]==name:\n",
    "            return i\n",
    "    return False\n",
    "def findStateCode(name):\n",
    "    res=query('/v2/admin/location/states')\n",
    "    states = res['states']\n",
    "    return finder(name,states,'state_name')\n",
    "def findDisCode(disName,stateCode=9):\n",
    "    Districts = query(f'/v2/admin/location/districts/{stateCode}')['districts']\n",
    "    return finder(disName,Districts,'district_name')\n",
    "def getAvailbyDis(disName,date,stateCode=9,d={}):\n",
    "    disCode = findDisCode(disName,stateCode)['district_id']\n",
    "    response = query(f'/v2/appointment/sessions/public/calendarByDistrict?district_id={disCode}&date={date}')\n",
    "    centers = response['centers']\n",
    "    for center in centers:\n",
    "        sessions = center['sessions']\n",
    "        for session in sessions:\n",
    "            if session['available_capacity']>0 and session['min_age_limit']==18:\n",
    "                print(center['name'],session['date'],session['available_capacity'],disName)\n",
    "                newD={'name':center['name'],'date':session['date'],'avail':session['available_capacity']}\n",
    "                chkAndPlay(d,newD)\n",
    "                file = open(f'vaccx_{stateCode}.txt','a')\n",
    "                file.write(f\"{center['name']}_{session['date']}_{session['available_capacity'],{disName}}\\n\")\n",
    "                file.close()\n",
    "def getAvailbyState(statecode,d={}):\n",
    "    districts = query(f'/v2/admin/location/districts/{statecode}')['districts']\n",
    "    for district in districts:\n",
    "        getAvailbyDis(district['district_name'],'02-05-2021')\n",
    "        getAvailbyDis(district['district_name'],'09-05-2021')"
   ]
  },
  {
   "cell_type": "code",
   "execution_count": 81,
   "id": "attended-enlargement",
   "metadata": {},
   "outputs": [],
   "source": [
    "Z=query('/v2/appointment/sessions/public/calendarByDistrict?district_id=512&date=31-03-2021')"
   ]
  },
  {
   "cell_type": "code",
   "execution_count": 7,
   "id": "personal-george",
   "metadata": {},
   "outputs": [
    {
     "ename": "ModuleNotFoundError",
     "evalue": "No module named 'gi'",
     "output_type": "error",
     "traceback": [
      "\u001b[0;31m---------------------------------------------------------------------------\u001b[0m",
      "\u001b[0;31mModuleNotFoundError\u001b[0m                       Traceback (most recent call last)",
      "\u001b[0;32m<ipython-input-7-cd18c6c0a053>\u001b[0m in \u001b[0;36m<module>\u001b[0;34m\u001b[0m\n\u001b[0;32m----> 1\u001b[0;31m \u001b[0mtxt2Spch\u001b[0m\u001b[0;34m(\u001b[0m\u001b[0;34m'Hi KEshav'\u001b[0m\u001b[0;34m)\u001b[0m\u001b[0;34m\u001b[0m\u001b[0;34m\u001b[0m\u001b[0m\n\u001b[0m",
      "\u001b[0;32m<ipython-input-6-368ed0f2311f>\u001b[0m in \u001b[0;36mtxt2Spch\u001b[0;34m(words)\u001b[0m\n\u001b[1;32m      2\u001b[0m     \u001b[0mos\u001b[0m\u001b[0;34m.\u001b[0m\u001b[0msystem\u001b[0m\u001b[0;34m(\u001b[0m\u001b[0;34mf'mpg123 \"{name}\"'\u001b[0m\u001b[0;34m)\u001b[0m\u001b[0;34m\u001b[0m\u001b[0;34m\u001b[0m\u001b[0m\n\u001b[1;32m      3\u001b[0m \u001b[0;32mdef\u001b[0m \u001b[0mtxt2Spch\u001b[0m\u001b[0;34m(\u001b[0m\u001b[0mwords\u001b[0m\u001b[0;34m)\u001b[0m\u001b[0;34m:\u001b[0m\u001b[0;34m\u001b[0m\u001b[0;34m\u001b[0m\u001b[0m\n\u001b[0;32m----> 4\u001b[0;31m     \u001b[0mspeak\u001b[0m\u001b[0;34m(\u001b[0m\u001b[0mwords\u001b[0m\u001b[0;34m,\u001b[0m \u001b[0;34m\"en\"\u001b[0m\u001b[0;34m,\u001b[0m \u001b[0msave\u001b[0m\u001b[0;34m=\u001b[0m\u001b[0;32mFalse\u001b[0m\u001b[0;34m)\u001b[0m\u001b[0;34m\u001b[0m\u001b[0;34m\u001b[0m\u001b[0m\n\u001b[0m\u001b[1;32m      5\u001b[0m \u001b[0;32mdef\u001b[0m \u001b[0mchkAndPlay\u001b[0m\u001b[0;34m(\u001b[0m\u001b[0md\u001b[0m\u001b[0;34m,\u001b[0m\u001b[0mcurr\u001b[0m\u001b[0;34m)\u001b[0m\u001b[0;34m:\u001b[0m\u001b[0;34m\u001b[0m\u001b[0;34m\u001b[0m\u001b[0m\n\u001b[1;32m      6\u001b[0m     \u001b[0;32mif\u001b[0m \u001b[0mcurr\u001b[0m\u001b[0;34m[\u001b[0m\u001b[0;34m'name'\u001b[0m\u001b[0;34m]\u001b[0m \u001b[0;32min\u001b[0m \u001b[0md\u001b[0m\u001b[0;34m:\u001b[0m\u001b[0;34m\u001b[0m\u001b[0;34m\u001b[0m\u001b[0m\n",
      "\u001b[0;32m~/anaconda3/lib/python3.7/site-packages/text_to_speech/text_to_speech.py\u001b[0m in \u001b[0;36mspeak\u001b[0;34m(text, lang, slow, save, file)\u001b[0m\n\u001b[1;32m     25\u001b[0m         \u001b[0mtts\u001b[0m\u001b[0;34m.\u001b[0m\u001b[0msave\u001b[0m\u001b[0;34m(\u001b[0m\u001b[0mfile\u001b[0m\u001b[0;34m)\u001b[0m\u001b[0;34m\u001b[0m\u001b[0;34m\u001b[0m\u001b[0m\n\u001b[1;32m     26\u001b[0m \u001b[0;34m\u001b[0m\u001b[0m\n\u001b[0;32m---> 27\u001b[0;31m         \u001b[0mplay\u001b[0m\u001b[0;34m(\u001b[0m\u001b[0mfile\u001b[0m\u001b[0;34m)\u001b[0m\u001b[0;34m\u001b[0m\u001b[0;34m\u001b[0m\u001b[0m\n\u001b[0m\u001b[1;32m     28\u001b[0m \u001b[0;34m\u001b[0m\u001b[0m\n\u001b[1;32m     29\u001b[0m         \u001b[0;32mif\u001b[0m \u001b[0msave\u001b[0m \u001b[0;34m==\u001b[0m \u001b[0;32mFalse\u001b[0m\u001b[0;34m:\u001b[0m\u001b[0;34m\u001b[0m\u001b[0;34m\u001b[0m\u001b[0m\n",
      "\u001b[0;32m~/anaconda3/lib/python3.7/site-packages/text_to_speech/text_to_speech.py\u001b[0m in \u001b[0;36mplay\u001b[0;34m(text)\u001b[0m\n\u001b[1;32m      5\u001b[0m \u001b[0;34m\u001b[0m\u001b[0m\n\u001b[1;32m      6\u001b[0m \u001b[0;32mdef\u001b[0m \u001b[0mplay\u001b[0m\u001b[0;34m(\u001b[0m\u001b[0mtext\u001b[0m\u001b[0;34m)\u001b[0m\u001b[0;34m:\u001b[0m\u001b[0;34m\u001b[0m\u001b[0;34m\u001b[0m\u001b[0m\n\u001b[0;32m----> 7\u001b[0;31m     \u001b[0mplaysound\u001b[0m\u001b[0;34m(\u001b[0m\u001b[0mtext\u001b[0m\u001b[0;34m,\u001b[0m \u001b[0;32mTrue\u001b[0m\u001b[0;34m)\u001b[0m\u001b[0;34m\u001b[0m\u001b[0;34m\u001b[0m\u001b[0m\n\u001b[0m\u001b[1;32m      8\u001b[0m \u001b[0;34m\u001b[0m\u001b[0m\n\u001b[1;32m      9\u001b[0m \u001b[0;32mdef\u001b[0m \u001b[0mspeak\u001b[0m\u001b[0;34m(\u001b[0m\u001b[0mtext\u001b[0m\u001b[0;34m,\u001b[0m \u001b[0mlang\u001b[0m \u001b[0;34m=\u001b[0m \u001b[0;34m\"en\"\u001b[0m\u001b[0;34m,\u001b[0m \u001b[0mslow\u001b[0m \u001b[0;34m=\u001b[0m \u001b[0;32mFalse\u001b[0m\u001b[0;34m,\u001b[0m \u001b[0msave\u001b[0m \u001b[0;34m=\u001b[0m \u001b[0;32mFalse\u001b[0m\u001b[0;34m,\u001b[0m \u001b[0mfile\u001b[0m \u001b[0;34m=\u001b[0m \u001b[0;34m\"\"\u001b[0m\u001b[0;34m)\u001b[0m\u001b[0;34m:\u001b[0m\u001b[0;34m\u001b[0m\u001b[0;34m\u001b[0m\u001b[0m\n",
      "\u001b[0;32m~/anaconda3/lib/python3.7/site-packages/playsound.py\u001b[0m in \u001b[0;36m_playsoundNix\u001b[0;34m(sound, block)\u001b[0m\n\u001b[1;32m     89\u001b[0m         \u001b[0;32mfrom\u001b[0m \u001b[0murllib\u001b[0m \u001b[0;32mimport\u001b[0m \u001b[0mpathname2url\u001b[0m\u001b[0;34m\u001b[0m\u001b[0;34m\u001b[0m\u001b[0m\n\u001b[1;32m     90\u001b[0m \u001b[0;34m\u001b[0m\u001b[0m\n\u001b[0;32m---> 91\u001b[0;31m     \u001b[0;32mimport\u001b[0m \u001b[0mgi\u001b[0m\u001b[0;34m\u001b[0m\u001b[0;34m\u001b[0m\u001b[0m\n\u001b[0m\u001b[1;32m     92\u001b[0m     \u001b[0mgi\u001b[0m\u001b[0;34m.\u001b[0m\u001b[0mrequire_version\u001b[0m\u001b[0;34m(\u001b[0m\u001b[0;34m'Gst'\u001b[0m\u001b[0;34m,\u001b[0m \u001b[0;34m'1.0'\u001b[0m\u001b[0;34m)\u001b[0m\u001b[0;34m\u001b[0m\u001b[0;34m\u001b[0m\u001b[0m\n\u001b[1;32m     93\u001b[0m     \u001b[0;32mfrom\u001b[0m \u001b[0mgi\u001b[0m\u001b[0;34m.\u001b[0m\u001b[0mrepository\u001b[0m \u001b[0;32mimport\u001b[0m \u001b[0mGst\u001b[0m\u001b[0;34m\u001b[0m\u001b[0;34m\u001b[0m\u001b[0m\n",
      "\u001b[0;31mModuleNotFoundError\u001b[0m: No module named 'gi'"
     ]
    }
   ],
   "source": [
    "txt2Spch('Hi KEshav')"
   ]
  },
  {
   "cell_type": "code",
   "execution_count": null,
   "id": "regulation-hurricane",
   "metadata": {},
   "outputs": [
    {
     "name": "stdout",
     "output_type": "stream",
     "text": [
      "Balak Ram Hospital SITE 5 02-05-2021 184 Central Delhi\n",
      "Balak Ram Hospital SITE 5 03-05-2021 200 Central Delhi\n",
      "Balak Ram Hospital SITE 5 04-05-2021 199 Central Delhi\n",
      "Balak Ram Hospital SITE 5 05-05-2021 200 Central Delhi\n",
      "Balak Ram Hospital SITE 5 06-05-2021 200 Central Delhi\n",
      "Balak Ram Hospital SITE 5 07-05-2021 200 Central Delhi\n",
      "Balak Ram Hospital SITE 5 08-05-2021 200 Central Delhi\n",
      "MCW Burari PHC 03-05-2021 30 Central Delhi\n",
      "MCW Burari PHC 04-05-2021 46 Central Delhi\n",
      "Burari Hospital Site 2 03-05-2021 150 Central Delhi\n",
      "Burari Hospital Site 2 04-05-2021 197 Central Delhi\n",
      "Burari Hospital Site 2 05-05-2021 192 Central Delhi\n",
      "Burari Hospital Site 2 06-05-2021 197 Central Delhi\n",
      "Burari Hospital Site 2 07-05-2021 198 Central Delhi\n",
      "Burari Hospital Site 2 08-05-2021 198 Central Delhi\n",
      "LNJP Hospital Site 4 03-05-2021 45 Central Delhi\n",
      "LNJP Hospital Site 4 04-05-2021 50 Central Delhi\n",
      "LNJP Hospital Site 4 05-05-2021 50 Central Delhi\n",
      "LNJP Hospital Site 4 06-05-2021 50 Central Delhi\n",
      "LNJP Hospital Site 4 07-05-2021 50 Central Delhi\n",
      "LNJP Hospital Site 4 08-05-2021 50 Central Delhi\n",
      "Balak Ram Hospital SITE 6 03-05-2021 194 Central Delhi\n",
      "Balak Ram Hospital SITE 6 05-05-2021 200 Central Delhi\n",
      "LNJP Hospital DH Site 5 03-05-2021 50 Central Delhi\n",
      "LNJP Hospital DH Site 5 04-05-2021 200 Central Delhi\n",
      "LNJP Hospital DH Site 5 05-05-2021 200 Central Delhi\n",
      "Lady Reading Health School PHC 03-05-2021 46 Central Delhi\n",
      "Lady Reading Health School PHC 04-05-2021 50 Central Delhi\n"
     ]
    }
   ],
   "source": [
    "val=0\n",
    "d={}\n",
    "while val<2:\n",
    "    getAvailbyState(9,d)\n",
    "    getAvailbyDis(findDisCode('Gurgaon',12)['district_name'],'02-05-2021',12,d)\n",
    "    getAvailbyDis(findDisCode('Gurgaon',12)['district_name'],'09-05-2021',12,d)\n",
    "    print(val)\n",
    "    time.sleep(60)\n",
    "    val+=1"
   ]
  },
  {
   "cell_type": "code",
   "execution_count": 129,
   "id": "independent-flush",
   "metadata": {},
   "outputs": [],
   "source": [
    "playit('Five Little Ducks.mp3')"
   ]
  },
  {
   "cell_type": "code",
   "execution_count": 123,
   "id": "tough-month",
   "metadata": {},
   "outputs": [
    {
     "data": {
      "text/plain": [
       "2"
      ]
     },
     "execution_count": 123,
     "metadata": {},
     "output_type": "execute_result"
    }
   ],
   "source": [
    "os.system('mpg123 \"Five Little Ducks.mp3\"')"
   ]
  },
  {
   "cell_type": "code",
   "execution_count": 106,
   "id": "creative-campus",
   "metadata": {},
   "outputs": [
    {
     "name": "stdout",
     "output_type": "stream",
     "text": [
      "Gurgaon\n",
      "Gurgaon\n",
      "1\n",
      "Gurgaon\n",
      "Gurgaon\n"
     ]
    },
    {
     "ename": "KeyboardInterrupt",
     "evalue": "",
     "output_type": "error",
     "traceback": [
      "\u001b[0;31m---------------------------------------------------------------------------\u001b[0m",
      "\u001b[0;31mKeyboardInterrupt\u001b[0m                         Traceback (most recent call last)",
      "\u001b[0;32m<ipython-input-106-299d7f11ae9e>\u001b[0m in \u001b[0;36m<module>\u001b[0;34m\u001b[0m\n\u001b[1;32m      6\u001b[0m         \u001b[0mgetAvailbyDis\u001b[0m\u001b[0;34m(\u001b[0m\u001b[0mdistrict\u001b[0m\u001b[0;34m[\u001b[0m\u001b[0;34m'district_name'\u001b[0m\u001b[0;34m]\u001b[0m\u001b[0;34m,\u001b[0m\u001b[0;34m'09-05-2021'\u001b[0m\u001b[0;34m)\u001b[0m\u001b[0;34m\u001b[0m\u001b[0;34m\u001b[0m\u001b[0m\n\u001b[1;32m      7\u001b[0m     \u001b[0mval\u001b[0m\u001b[0;34m+=\u001b[0m\u001b[0;36m1\u001b[0m\u001b[0;34m\u001b[0m\u001b[0;34m\u001b[0m\u001b[0m\n\u001b[0;32m----> 8\u001b[0;31m     \u001b[0mtime\u001b[0m\u001b[0;34m.\u001b[0m\u001b[0msleep\u001b[0m\u001b[0;34m(\u001b[0m\u001b[0;36m60\u001b[0m\u001b[0;34m)\u001b[0m\u001b[0;34m\u001b[0m\u001b[0;34m\u001b[0m\u001b[0m\n\u001b[0m\u001b[1;32m      9\u001b[0m     \u001b[0mprint\u001b[0m\u001b[0;34m(\u001b[0m\u001b[0mval\u001b[0m\u001b[0;34m)\u001b[0m\u001b[0;34m\u001b[0m\u001b[0;34m\u001b[0m\u001b[0m\n",
      "\u001b[0;31mKeyboardInterrupt\u001b[0m: "
     ]
    }
   ],
   "source": [
    "districts = query('/v2/admin/location/districts/9')['districts']+[findDisCode('Gurgaon',12)]\n",
    "val=0\n",
    "while val<20:\n",
    "    for district in districts:\n",
    "        getAvailbyDis(district['district_name'],'02-05-2021')\n",
    "        getAvailbyDis(district['district_name'],'09-05-2021')\n",
    "    val+=1\n",
    "    time.sleep(60)\n",
    "    print(val)"
   ]
  },
  {
   "cell_type": "code",
   "execution_count": 103,
   "id": "rural-billion",
   "metadata": {},
   "outputs": [
    {
     "data": {
      "text/plain": [
       "[{'district_id': 141, 'district_name': 'Central Delhi'},\n",
       " {'district_id': 145, 'district_name': 'East Delhi'},\n",
       " {'district_id': 140, 'district_name': 'New Delhi'},\n",
       " {'district_id': 146, 'district_name': 'North Delhi'},\n",
       " {'district_id': 147, 'district_name': 'North East Delhi'},\n",
       " {'district_id': 143, 'district_name': 'North West Delhi'},\n",
       " {'district_id': 148, 'district_name': 'Shahdara'},\n",
       " {'district_id': 149, 'district_name': 'South Delhi'},\n",
       " {'district_id': 144, 'district_name': 'South East Delhi'},\n",
       " {'district_id': 150, 'district_name': 'South West Delhi'},\n",
       " {'district_id': 142, 'district_name': 'West Delhi'},\n",
       " {'district_id': 188, 'district_name': 'Gurgaon'}]"
      ]
     },
     "execution_count": 103,
     "metadata": {},
     "output_type": "execute_result"
    }
   ],
   "source": [
    "query('/v2/admin/location/districts/9')['districts']+[findDisCode('Gurgaon',12)]"
   ]
  },
  {
   "cell_type": "code",
   "execution_count": 107,
   "id": "processed-decrease",
   "metadata": {},
   "outputs": [
    {
     "data": {
      "text/plain": [
       "False"
      ]
     },
     "execution_count": 107,
     "metadata": {},
     "output_type": "execute_result"
    }
   ],
   "source": [
    "findDisCode('Gurgaon')"
   ]
  },
  {
   "cell_type": "code",
   "execution_count": null,
   "id": "early-revolution",
   "metadata": {},
   "outputs": [],
   "source": []
  }
 ],
 "metadata": {
  "kernelspec": {
   "display_name": "Python 3",
   "language": "python",
   "name": "python3"
  },
  "language_info": {
   "codemirror_mode": {
    "name": "ipython",
    "version": 3
   },
   "file_extension": ".py",
   "mimetype": "text/x-python",
   "name": "python",
   "nbconvert_exporter": "python",
   "pygments_lexer": "ipython3",
   "version": "3.7.3"
  }
 },
 "nbformat": 4,
 "nbformat_minor": 5
}
